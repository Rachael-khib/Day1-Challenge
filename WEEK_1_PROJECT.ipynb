{
  "nbformat": 4,
  "nbformat_minor": 0,
  "metadata": {
    "colab": {
      "provenance": []
    },
    "kernelspec": {
      "name": "python3",
      "display_name": "Python 3"
    },
    "language_info": {
      "name": "python"
    }
  },
  "cells": [
    {
      "cell_type": "code",
      "execution_count": 1,
      "metadata": {
        "id": "nsKWv8r6byQz"
      },
      "outputs": [],
      "source": [
        "%load_ext sql"
      ]
    },
    {
      "cell_type": "code",
      "source": [
        "%sql  sqlite:////AREA.db"
      ],
      "metadata": {
        "id": "car9106Lb-z9"
      },
      "execution_count": 6,
      "outputs": []
    },
    {
      "cell_type": "code",
      "source": [
        "%%sql CREATE TABLE beneficiary_partner_data (\n",
        "    partner_id INT NOT NULL PRIMARY KEY,\n",
        "    partner VARCHAR(30) NOT NULL,\n",
        "    village VARCHAR(30) NOT NULL,\n",
        "    beneficiaries INT,\n",
        "    beneficiary_type VARCHAR(30)\n",
        ");"
      ],
      "metadata": {
        "colab": {
          "base_uri": "https://localhost:8080/"
        },
        "id": "ktwn5bVHed66",
        "outputId": "c21148a8-db2d-4525-f40d-5a0a4a164923"
      },
      "execution_count": 7,
      "outputs": [
        {
          "output_type": "stream",
          "name": "stdout",
          "text": [
            " * sqlite:////AREA.db\n",
            "   sqlite:////content/sample_data/table_gen.txt\n",
            "   sqlite:///AREA.db\n",
            "Done.\n"
          ]
        },
        {
          "output_type": "execute_result",
          "data": {
            "text/plain": [
              "[]"
            ]
          },
          "metadata": {},
          "execution_count": 7
        }
      ]
    },
    {
      "cell_type": "code",
      "source": [
        "%%sql CREATE TABLE village_locations (\n",
        "    village_id INT NOT NULL PRIMARY KEY,\n",
        "    village VARCHAR(30) NOT NULL,\n",
        "    latitude VARCHAR(30),\n",
        "    longitude VARCHAR(30),\n",
        "    total_population INT\n",
        ");"
      ],
      "metadata": {
        "colab": {
          "base_uri": "https://localhost:8080/"
        },
        "id": "xT6g9IAAh5sM",
        "outputId": "79e174c6-61bb-4268-c146-52ebfe8c8d74"
      },
      "execution_count": 8,
      "outputs": [
        {
          "output_type": "stream",
          "name": "stdout",
          "text": [
            " * sqlite:////AREA.db\n",
            "   sqlite:////content/sample_data/table_gen.txt\n",
            "   sqlite:///AREA.db\n",
            "Done.\n"
          ]
        },
        {
          "output_type": "execute_result",
          "data": {
            "text/plain": [
              "[]"
            ]
          },
          "metadata": {},
          "execution_count": 8
        }
      ]
    },
    {
      "cell_type": "code",
      "source": [
        "%%sql CREATE VIEW District_summary AS\n",
        "SELECT\n",
        "     d.district_name AS District_Name,\n",
        "     r.region_name AS Region_Name,\n",
        "     SUM(b.beneficiaries) AS Total_Beneficiaries,\n",
        "     SUM(b.beneficiaries) /d.district_population AS Beneficiaries_Per_Population\n",
        "FROM\n",
        "     BeneficiaryPartnerData b\n",
        "JOIN\n",
        "     VillageLocation v ON b.village_id = v.village_id\n",
        "JOIN\n",
        "    JurisdictionHierarchy d ON v.district_id = d.jurisdiction_id\n",
        "JOIN\n",
        "    JurisdictionHierarchy r ON d.parent_jurisdiction_id = r.jurisdiction_id\n",
        "GROUP BY\n",
        "     d.district_name, r.region_name;\n"
      ],
      "metadata": {
        "colab": {
          "base_uri": "https://localhost:8080/"
        },
        "id": "LscOW2Y2ijvy",
        "outputId": "f6d8f8ca-6bf5-4cfd-e601-1786dc58a5d8"
      },
      "execution_count": 9,
      "outputs": [
        {
          "output_type": "stream",
          "name": "stdout",
          "text": [
            " * sqlite:////AREA.db\n",
            "   sqlite:////content/sample_data/table_gen.txt\n",
            "   sqlite:///AREA.db\n",
            "Done.\n"
          ]
        },
        {
          "output_type": "execute_result",
          "data": {
            "text/plain": [
              "[]"
            ]
          },
          "metadata": {},
          "execution_count": 9
        }
      ]
    },
    {
      "cell_type": "code",
      "source": [
        "%%sql CREATE VIEW Partner_summary AS\n",
        "SELECT\n",
        "    p.partner_name AS Partner_Name,\n",
        "    COUNT(DISTINCT v.village_id) AS Village_Reached,\n",
        "    COUNT(DISTINCT d.jurisdiction_id) AS Districts_Reached\n",
        "FROM\n",
        "    BeneficiaryPartnerData b\n",
        "JOIN\n",
        "    VillageLocation v ON b.village_id = v.village_id\n",
        "JOIN\n",
        "    JurisdictionHierarchy d ON v.district_id = d.jurisdiction_id\n",
        "JOIN\n",
        "    Partners p ON b.partner_id = p.partner_id\n",
        "GROUP BY\n",
        "    p.partner_name;"
      ],
      "metadata": {
        "colab": {
          "base_uri": "https://localhost:8080/"
        },
        "id": "QdR31GifruQF",
        "outputId": "1d1ad3ff-e560-4170-fa47-32559b4c5c6a"
      },
      "execution_count": 10,
      "outputs": [
        {
          "output_type": "stream",
          "name": "stdout",
          "text": [
            " * sqlite:////AREA.db\n",
            "   sqlite:////content/sample_data/table_gen.txt\n",
            "   sqlite:///AREA.db\n",
            "Done.\n"
          ]
        },
        {
          "output_type": "execute_result",
          "data": {
            "text/plain": [
              "[]"
            ]
          },
          "metadata": {},
          "execution_count": 10
        }
      ]
    }
  ]
}