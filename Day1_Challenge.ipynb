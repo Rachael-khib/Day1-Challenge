{
  "nbformat": 4,
  "nbformat_minor": 0,
  "metadata": {
    "colab": {
      "provenance": []
    },
    "kernelspec": {
      "name": "python3",
      "display_name": "Python 3"
    },
    "language_info": {
      "name": "python"
    }
  },
  "cells": [
    {
      "cell_type": "code",
      "execution_count": 2,
      "metadata": {
        "id": "99srcALhsS68"
      },
      "outputs": [],
      "source": [
        "import sqlite3\n",
        "conn = sqlite3.connect('ABC_DATA.db')"
      ]
    },
    {
      "cell_type": "code",
      "source": [
        "conn.execute('''\n",
        "    CREATE TABLE customers(\n",
        "      customer_id INT NOT NULL PRIMARY KEY,\n",
        "      first_name VARCHAR(20),\n",
        "      last_name VARCHAR(20),\n",
        "      email VARCHAR(30)\n",
        "    ); '''\n",
        ")\n",
        "conn.commit()\n",
        "print('customers table created')"
      ],
      "metadata": {
        "colab": {
          "base_uri": "https://localhost:8080/"
        },
        "id": "uSCDCm80sgWk",
        "outputId": "1df74e83-000c-45a7-dee3-ea3b175d9855"
      },
      "execution_count": 3,
      "outputs": [
        {
          "output_type": "stream",
          "name": "stdout",
          "text": [
            "customers table created\n"
          ]
        }
      ]
    },
    {
      "cell_type": "code",
      "source": [
        "conn.execute('''\n",
        "    CREATE TABLE products(\n",
        "      product_id INT NOT NULL PRIMARY KEY,\n",
        "      product_name VARCHAR(20),\n",
        "      price DECIMAL(6,2)\n",
        "    ); '''\n",
        ")\n",
        "conn.commit()\n",
        "print('products table created')"
      ],
      "metadata": {
        "colab": {
          "base_uri": "https://localhost:8080/"
        },
        "id": "Pb4-jZY9tlIA",
        "outputId": "98089be7-359b-4960-a4b0-692ad9e1fdb1"
      },
      "execution_count": 4,
      "outputs": [
        {
          "output_type": "stream",
          "name": "stdout",
          "text": [
            "products table created\n"
          ]
        }
      ]
    },
    {
      "cell_type": "code",
      "source": [
        "conn.execute('''\n",
        "    CREATE TABLE orders(\n",
        "      order_id INT NOT NULL PRIMARY KEY,\n",
        "      customer_id INT,\n",
        "      order_date DATE,\n",
        "      FOREIGN KEY (customer_id) REFERENCES customers(customer_id)\n",
        "     ); '''\n",
        ")\n",
        "conn.commit()\n",
        "print('orders table created')"
      ],
      "metadata": {
        "colab": {
          "base_uri": "https://localhost:8080/"
        },
        "id": "xu8ZiUj8uW2Z",
        "outputId": "dfd91c06-8e97-4d61-9170-70e9756977a8"
      },
      "execution_count": 8,
      "outputs": [
        {
          "output_type": "stream",
          "name": "stdout",
          "text": [
            "orders table created\n"
          ]
        }
      ]
    },
    {
      "cell_type": "code",
      "source": [
        "conn.execute('''\n",
        "    CREATE TABLE order_items(\n",
        "      order_id INT,\n",
        "      product_id INT,\n",
        "      quantity INT,\n",
        "      FOREIGN KEY (order_id) REFERENCES orders(order_id),\n",
        "      FOREIGN KEY (product_id) REFERENCES products(product_id)\n",
        "    ); '''\n",
        ")\n",
        "conn.commit()\n",
        "print('order_items table created')"
      ],
      "metadata": {
        "colab": {
          "base_uri": "https://localhost:8080/"
        },
        "id": "y-kDVz0C46au",
        "outputId": "ac8cb516-d9eb-4877-871f-c5e21492e88b"
      },
      "execution_count": 9,
      "outputs": [
        {
          "output_type": "stream",
          "name": "stdout",
          "text": [
            "order_items table created\n"
          ]
        }
      ]
    }
  ]
}