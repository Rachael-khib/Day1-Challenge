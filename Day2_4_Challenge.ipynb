{
  "nbformat": 4,
  "nbformat_minor": 0,
  "metadata": {
    "colab": {
      "provenance": []
    },
    "kernelspec": {
      "name": "python3",
      "display_name": "Python 3"
    },
    "language_info": {
      "name": "python"
    }
  },
  "cells": [
    {
      "cell_type": "code",
      "execution_count": 1,
      "metadata": {
        "id": "Sk96nS2EPjqO"
      },
      "outputs": [],
      "source": [
        "%load_ext sql"
      ]
    },
    {
      "cell_type": "code",
      "source": [
        "%sql sqlite:///ABC_DATA.db"
      ],
      "metadata": {
        "id": "MpY_7Dp_Pyk0"
      },
      "execution_count": 2,
      "outputs": []
    },
    {
      "cell_type": "code",
      "source": [
        "%%sql INSERT INTO customers (customer_id, first_name, last_name, email) VALUES\n",
        "(1, 'John', 'Doe', 'johndoe@email.com'),\n",
        "(2, 'Jane', 'Smith', 'janesmith@email.com'),\n",
        "(3, 'Bob', 'Johnson', 'bobjohnson@email.com'),\n",
        "(4, 'Alice', 'Brown', 'alicebrown@email.com'),\n",
        "(5, 'Charlie', 'Davis', 'charliedavis@email.com'),\n",
        "(6, 'Eva', 'Fisher', 'evafisher@email.com'),\n",
        "(7, 'George', 'Harris', 'georgeharris@email.com'),\n",
        "(8, 'Ivy', 'Jones', 'ivyjones@email.com'),\n",
        "(9, 'Kevin', 'Miller', 'kevinmiller@email.com'),\n",
        "(10, 'Lily', 'Nelson', 'lilynelson@email.com'),\n",
        "(11, 'Oliver', 'Patterson', 'oliverpatterson@email.com'),\n",
        "(12, 'Quinn', 'Roberts', 'quinnroberts@email.com'),\n",
        "(13, 'Sophia', 'Thomas', 'sophiathomas@email.com');"
      ],
      "metadata": {
        "colab": {
          "base_uri": "https://localhost:8080/"
        },
        "id": "4dMnRjuPQAaT",
        "outputId": "b7179d12-3f06-4532-ba9c-e920482118c3"
      },
      "execution_count": 3,
      "outputs": [
        {
          "output_type": "stream",
          "name": "stdout",
          "text": [
            " * sqlite:///ABC_DATA.db\n",
            "13 rows affected.\n"
          ]
        },
        {
          "output_type": "execute_result",
          "data": {
            "text/plain": [
              "[]"
            ]
          },
          "metadata": {},
          "execution_count": 3
        }
      ]
    },
    {
      "cell_type": "code",
      "source": [
        "%%sql INSERT INTO products (product_id, product_name, price) VALUES\n",
        "(1, 'Product A', 10.00),\n",
        "(2, 'Product B', 15.00),\n",
        "(3, 'Product C', 20.00),\n",
        "(4, 'Product D', 25.00),\n",
        "(5, 'Product E', 30.00),\n",
        "(6, 'Product F', 35.00),\n",
        "(7, 'Product G', 40.00),\n",
        "(8, 'Product H', 45.00),\n",
        "(9, 'Product I', 50.00),\n",
        "(10, 'Product J', 55.00),\n",
        "(11, 'Product K', 60.00),\n",
        "(12, 'Product L', 65.00),\n",
        "(13, 'Product M', 70.00);"
      ],
      "metadata": {
        "colab": {
          "base_uri": "https://localhost:8080/"
        },
        "id": "jm1wF3izU-7y",
        "outputId": "4cdea6aa-2499-4ce3-bf55-607f244f0482"
      },
      "execution_count": 4,
      "outputs": [
        {
          "output_type": "stream",
          "name": "stdout",
          "text": [
            " * sqlite:///ABC_DATA.db\n",
            "13 rows affected.\n"
          ]
        },
        {
          "output_type": "execute_result",
          "data": {
            "text/plain": [
              "[]"
            ]
          },
          "metadata": {},
          "execution_count": 4
        }
      ]
    },
    {
      "cell_type": "code",
      "source": [
        "%%sql INSERT INTO orders (order_id, customer_id, order_date) VALUES\n",
        "(1, 1,'2023-05-01'),\n",
        "(2, 2, '2023-05-02'),\n",
        "(3, 3, '2023-05-03'),\n",
        "(4, 1, '2023-05-04'),\n",
        "(5, 2, '2023-05-05'),\n",
        "(6, 3, '2023-05-06'),\n",
        "(7, 4, '2023-05-07'),\n",
        "(8, 5, '2023-05-08'),\n",
        "(9, 6, '2023-05-09'),\n",
        "(10, 7, '2023-05-10'),\n",
        "(11, 8, '2023-05-11'),\n",
        "(12, 9, '2023-05-12'),\n",
        "(13, 10, '2023-05-13'),\n",
        "(14, 11, '2023-05-14'),\n",
        "(15, 12, '2023-05-15'),\n",
        "(16, 13, '2023-05-16');"
      ],
      "metadata": {
        "colab": {
          "base_uri": "https://localhost:8080/"
        },
        "id": "Sr5nApKwXRYH",
        "outputId": "a7f312aa-034f-4562-d1f1-4db3575f5fcb"
      },
      "execution_count": 5,
      "outputs": [
        {
          "output_type": "stream",
          "name": "stdout",
          "text": [
            " * sqlite:///ABC_DATA.db\n",
            "16 rows affected.\n"
          ]
        },
        {
          "output_type": "execute_result",
          "data": {
            "text/plain": [
              "[]"
            ]
          },
          "metadata": {},
          "execution_count": 5
        }
      ]
    },
    {
      "cell_type": "code",
      "source": [
        "%%sql INSERT INTO order_items (order_id, product_id, quantity) VALUES\n",
        "(1, 1, 2),\n",
        "(1, 2, 1),\n",
        "(2, 2, 1),\n",
        "(2, 3, 3),\n",
        "(3, 1, 1),\n",
        "(3, 3, 2),\n",
        "(4, 2, 4),\n",
        "(4, 3, 1),\n",
        "(5, 1, 1),\n",
        "(5, 3, 2),\n",
        "(6, 2, 3),\n",
        "(6, 1, 1),\n",
        "(7, 4, 1),\n",
        "(7, 5, 2),\n",
        "(8, 6, 3),\n",
        "(8, 7, 1),\n",
        "(9, 8, 2),\n",
        "(9, 9, 1),\n",
        "(10, 10, 3),\n",
        "(10, 11, 2),\n",
        "(11, 12, 1),\n",
        "(11, 13, 3),\n",
        "(12, 4, 2),\n",
        "(12, 5, 1),\n",
        "(13, 6, 3),\n",
        "(13, 7, 2),\n",
        "(14, 8, 1),\n",
        "(14, 9, 2),\n",
        "(15, 10, 3),\n",
        "(15, 11, 1),\n",
        "(16, 12, 2),\n",
        "(16, 13, 3);"
      ],
      "metadata": {
        "colab": {
          "base_uri": "https://localhost:8080/"
        },
        "id": "qsqSpQdYZhln",
        "outputId": "c75f14cd-80fb-453a-8c2d-ee869973e54f"
      },
      "execution_count": 6,
      "outputs": [
        {
          "output_type": "stream",
          "name": "stdout",
          "text": [
            " * sqlite:///ABC_DATA.db\n",
            "32 rows affected.\n"
          ]
        },
        {
          "output_type": "execute_result",
          "data": {
            "text/plain": [
              "[]"
            ]
          },
          "metadata": {},
          "execution_count": 6
        }
      ]
    },
    {
      "cell_type": "markdown",
      "source": [
        "#Day3 Challenge"
      ],
      "metadata": {
        "id": "cieLX7Qlkumu"
      }
    },
    {
      "cell_type": "code",
      "source": [
        "%sql SELECT * FROM products ORDER BY price DESC LIMIT 1;"
      ],
      "metadata": {
        "colab": {
          "base_uri": "https://localhost:8080/",
          "height": 96
        },
        "id": "Bf5HnAQwkPdR",
        "outputId": "86d3ac26-4874-47fd-cc09-f6e5bec76836"
      },
      "execution_count": 7,
      "outputs": [
        {
          "output_type": "stream",
          "name": "stdout",
          "text": [
            " * sqlite:///ABC_DATA.db\n",
            "Done.\n"
          ]
        },
        {
          "output_type": "execute_result",
          "data": {
            "text/plain": [
              "[(13, 'Product M', 70)]"
            ],
            "text/html": [
              "<table>\n",
              "    <thead>\n",
              "        <tr>\n",
              "            <th>product_id</th>\n",
              "            <th>product_name</th>\n",
              "            <th>price</th>\n",
              "        </tr>\n",
              "    </thead>\n",
              "    <tbody>\n",
              "        <tr>\n",
              "            <td>13</td>\n",
              "            <td>Product M</td>\n",
              "            <td>70</td>\n",
              "        </tr>\n",
              "    </tbody>\n",
              "</table>"
            ]
          },
          "metadata": {},
          "execution_count": 7
        }
      ]
    },
    {
      "cell_type": "code",
      "source": [
        "%sql SELECT order_id, quantity FROM order_items ORDER BY quantity DESC LIMIT 1"
      ],
      "metadata": {
        "colab": {
          "base_uri": "https://localhost:8080/",
          "height": 96
        },
        "id": "CMDzUnBGlgV7",
        "outputId": "5a585ec4-c287-4e75-b5e3-fea19b125703"
      },
      "execution_count": 13,
      "outputs": [
        {
          "output_type": "stream",
          "name": "stdout",
          "text": [
            " * sqlite:///ABC_DATA.db\n",
            "Done.\n"
          ]
        },
        {
          "output_type": "execute_result",
          "data": {
            "text/plain": [
              "[(4, 4)]"
            ],
            "text/html": [
              "<table>\n",
              "    <thead>\n",
              "        <tr>\n",
              "            <th>order_id</th>\n",
              "            <th>quantity</th>\n",
              "        </tr>\n",
              "    </thead>\n",
              "    <tbody>\n",
              "        <tr>\n",
              "            <td>4</td>\n",
              "            <td>4</td>\n",
              "        </tr>\n",
              "    </tbody>\n",
              "</table>"
            ]
          },
          "metadata": {},
          "execution_count": 13
        }
      ]
    },
    {
      "cell_type": "markdown",
      "source": [
        "#Day4 Challenge"
      ],
      "metadata": {
        "id": "mowf_NIKzJs8"
      }
    },
    {
      "cell_type": "code",
      "source": [
        "%%sql WITH order_counts AS (\n",
        "    SELECT customer_id, COUNT(order_id) AS order_count\n",
        "    FROM orders\n",
        "    GROUP BY customer_id\n",
        "    ),\n",
        "    max_order_count AS (\n",
        "      SELECT MAX(order_count) AS max_count\n",
        "      FROM order_counts\n",
        "      )\n",
        "      SELECT c.first_name, c.last_name\n",
        "      FROM customers c\n",
        "      JOIN order_counts oc ON c.customer_id = oc.customer_id\n",
        "      JOIN max_order_count moc ON oc.order_count = moc.max_count;"
      ],
      "metadata": {
        "colab": {
          "base_uri": "https://localhost:8080/",
          "height": 139
        },
        "id": "oAJveDPpqtku",
        "outputId": "7c196788-a571-476c-e914-b3c8f5197e8d"
      },
      "execution_count": 15,
      "outputs": [
        {
          "output_type": "stream",
          "name": "stdout",
          "text": [
            " * sqlite:///ABC_DATA.db\n",
            "Done.\n"
          ]
        },
        {
          "output_type": "execute_result",
          "data": {
            "text/plain": [
              "[('John', 'Doe'), ('Jane', 'Smith'), ('Bob', 'Johnson')]"
            ],
            "text/html": [
              "<table>\n",
              "    <thead>\n",
              "        <tr>\n",
              "            <th>first_name</th>\n",
              "            <th>last_name</th>\n",
              "        </tr>\n",
              "    </thead>\n",
              "    <tbody>\n",
              "        <tr>\n",
              "            <td>John</td>\n",
              "            <td>Doe</td>\n",
              "        </tr>\n",
              "        <tr>\n",
              "            <td>Jane</td>\n",
              "            <td>Smith</td>\n",
              "        </tr>\n",
              "        <tr>\n",
              "            <td>Bob</td>\n",
              "            <td>Johnson</td>\n",
              "        </tr>\n",
              "    </tbody>\n",
              "</table>"
            ]
          },
          "metadata": {},
          "execution_count": 15
        }
      ]
    },
    {
      "cell_type": "code",
      "source": [
        "%%sql SELECT p.product_name,\n",
        "    p.price * SUM(oi.quantity) AS total_revenue\n",
        "    FROM products p\n",
        "    JOIN order_items oi ON oi.product_id = p.product_id\n",
        "    GROUP BY p.product_name, p.price\n",
        "    ORDER BY total_revenue DESC;"
      ],
      "metadata": {
        "colab": {
          "base_uri": "https://localhost:8080/",
          "height": 353
        },
        "id": "wEfP4HPvzbQ5",
        "outputId": "f30de372-0c3b-465b-95ea-cc1ad98b017b"
      },
      "execution_count": 17,
      "outputs": [
        {
          "output_type": "stream",
          "name": "stdout",
          "text": [
            " * sqlite:///ABC_DATA.db\n",
            "Done.\n"
          ]
        },
        {
          "output_type": "execute_result",
          "data": {
            "text/plain": [
              "[('Product M', 420),\n",
              " ('Product J', 330),\n",
              " ('Product F', 210),\n",
              " ('Product L', 195),\n",
              " ('Product K', 180),\n",
              " ('Product C', 160),\n",
              " ('Product I', 150),\n",
              " ('Product B', 135),\n",
              " ('Product H', 135),\n",
              " ('Product G', 120),\n",
              " ('Product E', 90),\n",
              " ('Product D', 75),\n",
              " ('Product A', 50)]"
            ],
            "text/html": [
              "<table>\n",
              "    <thead>\n",
              "        <tr>\n",
              "            <th>product_name</th>\n",
              "            <th>total_revenue</th>\n",
              "        </tr>\n",
              "    </thead>\n",
              "    <tbody>\n",
              "        <tr>\n",
              "            <td>Product M</td>\n",
              "            <td>420</td>\n",
              "        </tr>\n",
              "        <tr>\n",
              "            <td>Product J</td>\n",
              "            <td>330</td>\n",
              "        </tr>\n",
              "        <tr>\n",
              "            <td>Product F</td>\n",
              "            <td>210</td>\n",
              "        </tr>\n",
              "        <tr>\n",
              "            <td>Product L</td>\n",
              "            <td>195</td>\n",
              "        </tr>\n",
              "        <tr>\n",
              "            <td>Product K</td>\n",
              "            <td>180</td>\n",
              "        </tr>\n",
              "        <tr>\n",
              "            <td>Product C</td>\n",
              "            <td>160</td>\n",
              "        </tr>\n",
              "        <tr>\n",
              "            <td>Product I</td>\n",
              "            <td>150</td>\n",
              "        </tr>\n",
              "        <tr>\n",
              "            <td>Product B</td>\n",
              "            <td>135</td>\n",
              "        </tr>\n",
              "        <tr>\n",
              "            <td>Product H</td>\n",
              "            <td>135</td>\n",
              "        </tr>\n",
              "        <tr>\n",
              "            <td>Product G</td>\n",
              "            <td>120</td>\n",
              "        </tr>\n",
              "        <tr>\n",
              "            <td>Product E</td>\n",
              "            <td>90</td>\n",
              "        </tr>\n",
              "        <tr>\n",
              "            <td>Product D</td>\n",
              "            <td>75</td>\n",
              "        </tr>\n",
              "        <tr>\n",
              "            <td>Product A</td>\n",
              "            <td>50</td>\n",
              "        </tr>\n",
              "    </tbody>\n",
              "</table>"
            ]
          },
          "metadata": {},
          "execution_count": 17
        }
      ]
    }
  ]
}